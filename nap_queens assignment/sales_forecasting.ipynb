{
 "cells": [
  {
   "cell_type": "markdown",
   "id": "bcc1ea04",
   "metadata": {},
   "source": [
    "# FORECSTING UNIT SALES"
   ]
  },
  {
   "cell_type": "markdown",
   "id": "6e46cba3",
   "metadata": {},
   "source": [
    "## NAME: RAMINI VARUN BABU.\n",
    "## REG NO: 20MID0135."
   ]
  },
  {
   "cell_type": "markdown",
   "id": "fadb61f2",
   "metadata": {},
   "source": [
    "Firstly, load the dataset from the given link. I have downloaded the datasets from the kaggle and loaded it using pandas."
   ]
  },
  {
   "cell_type": "code",
   "execution_count": 1,
   "id": "e9edc1cc",
   "metadata": {},
   "outputs": [],
   "source": [
    "import pandas as pd\n",
    "import numpy as np"
   ]
  },
  {
   "cell_type": "code",
   "execution_count": 2,
   "id": "397ee740",
   "metadata": {},
   "outputs": [],
   "source": [
    "train_data=pd.read_csv(\"C:/Users/Ramini Varun Babu/Downloads/nap_queens assignment/sales_data/train.csv  \")\n",
    "test_data=pd.read_csv(\"C:/Users/Ramini Varun Babu/Downloads/nap_queens assignment/sales_data/test.csv  \")\n",
    "sample_data=pd.read_csv(\"C:/Users/Ramini Varun Babu/Downloads/nap_queens assignment/sales_data/sample_submission.csv  \")"
   ]
  },
  {
   "cell_type": "code",
   "execution_count": 3,
   "id": "cfcf4504",
   "metadata": {},
   "outputs": [
    {
     "data": {
      "text/html": [
       "<div>\n",
       "<style scoped>\n",
       "    .dataframe tbody tr th:only-of-type {\n",
       "        vertical-align: middle;\n",
       "    }\n",
       "\n",
       "    .dataframe tbody tr th {\n",
       "        vertical-align: top;\n",
       "    }\n",
       "\n",
       "    .dataframe thead th {\n",
       "        text-align: right;\n",
       "    }\n",
       "</style>\n",
       "<table border=\"1\" class=\"dataframe\">\n",
       "  <thead>\n",
       "    <tr style=\"text-align: right;\">\n",
       "      <th></th>\n",
       "      <th>ID</th>\n",
       "      <th>date</th>\n",
       "      <th>Item Id</th>\n",
       "      <th>Item Name</th>\n",
       "      <th>ad_spend</th>\n",
       "      <th>anarix_id</th>\n",
       "      <th>units</th>\n",
       "      <th>unit_price</th>\n",
       "    </tr>\n",
       "  </thead>\n",
       "  <tbody>\n",
       "    <tr>\n",
       "      <th>0</th>\n",
       "      <td>2022-04-12_B09KDTS4DC</td>\n",
       "      <td>2022-04-12</td>\n",
       "      <td>B09KDTS4DC</td>\n",
       "      <td>NapQueen Elizabeth 8\" Gel Memory Foam Mattress...</td>\n",
       "      <td>NaN</td>\n",
       "      <td>NAPQUEEN</td>\n",
       "      <td>0.0</td>\n",
       "      <td>0.0</td>\n",
       "    </tr>\n",
       "    <tr>\n",
       "      <th>1</th>\n",
       "      <td>2022-04-12_B09MR2MLZH</td>\n",
       "      <td>2022-04-12</td>\n",
       "      <td>B09MR2MLZH</td>\n",
       "      <td>NapQueen 12 Inch Bamboo Charcoal Queen Size Me...</td>\n",
       "      <td>NaN</td>\n",
       "      <td>NAPQUEEN</td>\n",
       "      <td>0.0</td>\n",
       "      <td>0.0</td>\n",
       "    </tr>\n",
       "    <tr>\n",
       "      <th>2</th>\n",
       "      <td>2022-04-12_B09KSYL73R</td>\n",
       "      <td>2022-04-12</td>\n",
       "      <td>B09KSYL73R</td>\n",
       "      <td>NapQueen Elsa 8\" Innerspring Mattress, Twin XL</td>\n",
       "      <td>NaN</td>\n",
       "      <td>NAPQUEEN</td>\n",
       "      <td>0.0</td>\n",
       "      <td>0.0</td>\n",
       "    </tr>\n",
       "    <tr>\n",
       "      <th>3</th>\n",
       "      <td>2022-04-12_B09KT5HMNY</td>\n",
       "      <td>2022-04-12</td>\n",
       "      <td>B09KT5HMNY</td>\n",
       "      <td>NapQueen Elsa 6\" Innerspring Mattress, Twin</td>\n",
       "      <td>NaN</td>\n",
       "      <td>NAPQUEEN</td>\n",
       "      <td>0.0</td>\n",
       "      <td>0.0</td>\n",
       "    </tr>\n",
       "    <tr>\n",
       "      <th>4</th>\n",
       "      <td>2022-04-12_B09KTF8ZDQ</td>\n",
       "      <td>2022-04-12</td>\n",
       "      <td>B09KTF8ZDQ</td>\n",
       "      <td>NapQueen Elsa 6\" Innerspring Mattress, Twin XL</td>\n",
       "      <td>NaN</td>\n",
       "      <td>NAPQUEEN</td>\n",
       "      <td>0.0</td>\n",
       "      <td>0.0</td>\n",
       "    </tr>\n",
       "    <tr>\n",
       "      <th>5</th>\n",
       "      <td>2022-04-12_B09KTJRHC7</td>\n",
       "      <td>2022-04-12</td>\n",
       "      <td>B09KTJRHC7</td>\n",
       "      <td>NapQueen Elsa 6\" Innerspring Mattress, Full</td>\n",
       "      <td>NaN</td>\n",
       "      <td>NAPQUEEN</td>\n",
       "      <td>0.0</td>\n",
       "      <td>0.0</td>\n",
       "    </tr>\n",
       "    <tr>\n",
       "      <th>6</th>\n",
       "      <td>2022-04-12_B09KTMKDKJ</td>\n",
       "      <td>2022-04-12</td>\n",
       "      <td>B09KTMKDKJ</td>\n",
       "      <td>NapQueen Elsa 8\" Innerspring Mattress, Twin</td>\n",
       "      <td>NaN</td>\n",
       "      <td>NAPQUEEN</td>\n",
       "      <td>0.0</td>\n",
       "      <td>0.0</td>\n",
       "    </tr>\n",
       "    <tr>\n",
       "      <th>7</th>\n",
       "      <td>2022-04-12_B09KTMLQ1N</td>\n",
       "      <td>2022-04-12</td>\n",
       "      <td>B09KTMLQ1N</td>\n",
       "      <td>NapQueen Elsa 8\" Innerspring Mattress, Full</td>\n",
       "      <td>NaN</td>\n",
       "      <td>NAPQUEEN</td>\n",
       "      <td>0.0</td>\n",
       "      <td>0.0</td>\n",
       "    </tr>\n",
       "    <tr>\n",
       "      <th>8</th>\n",
       "      <td>2022-04-12_B09MR5WS3Y</td>\n",
       "      <td>2022-04-12</td>\n",
       "      <td>B09MR5WS3Y</td>\n",
       "      <td>NapQueen Margaret 8\" Charcoal Memory Foam Matt...</td>\n",
       "      <td>NaN</td>\n",
       "      <td>NAPQUEEN</td>\n",
       "      <td>0.0</td>\n",
       "      <td>0.0</td>\n",
       "    </tr>\n",
       "    <tr>\n",
       "      <th>9</th>\n",
       "      <td>2022-04-12_B09KSXP3HN</td>\n",
       "      <td>2022-04-12</td>\n",
       "      <td>B09KSXP3HN</td>\n",
       "      <td>NapQueen Elsa 8\" Innerspring Mattress, Queen</td>\n",
       "      <td>NaN</td>\n",
       "      <td>NAPQUEEN</td>\n",
       "      <td>0.0</td>\n",
       "      <td>0.0</td>\n",
       "    </tr>\n",
       "  </tbody>\n",
       "</table>\n",
       "</div>"
      ],
      "text/plain": [
       "                      ID        date     Item Id  \\\n",
       "0  2022-04-12_B09KDTS4DC  2022-04-12  B09KDTS4DC   \n",
       "1  2022-04-12_B09MR2MLZH  2022-04-12  B09MR2MLZH   \n",
       "2  2022-04-12_B09KSYL73R  2022-04-12  B09KSYL73R   \n",
       "3  2022-04-12_B09KT5HMNY  2022-04-12  B09KT5HMNY   \n",
       "4  2022-04-12_B09KTF8ZDQ  2022-04-12  B09KTF8ZDQ   \n",
       "5  2022-04-12_B09KTJRHC7  2022-04-12  B09KTJRHC7   \n",
       "6  2022-04-12_B09KTMKDKJ  2022-04-12  B09KTMKDKJ   \n",
       "7  2022-04-12_B09KTMLQ1N  2022-04-12  B09KTMLQ1N   \n",
       "8  2022-04-12_B09MR5WS3Y  2022-04-12  B09MR5WS3Y   \n",
       "9  2022-04-12_B09KSXP3HN  2022-04-12  B09KSXP3HN   \n",
       "\n",
       "                                           Item Name  ad_spend anarix_id  \\\n",
       "0  NapQueen Elizabeth 8\" Gel Memory Foam Mattress...       NaN  NAPQUEEN   \n",
       "1  NapQueen 12 Inch Bamboo Charcoal Queen Size Me...       NaN  NAPQUEEN   \n",
       "2     NapQueen Elsa 8\" Innerspring Mattress, Twin XL       NaN  NAPQUEEN   \n",
       "3        NapQueen Elsa 6\" Innerspring Mattress, Twin       NaN  NAPQUEEN   \n",
       "4     NapQueen Elsa 6\" Innerspring Mattress, Twin XL       NaN  NAPQUEEN   \n",
       "5        NapQueen Elsa 6\" Innerspring Mattress, Full       NaN  NAPQUEEN   \n",
       "6        NapQueen Elsa 8\" Innerspring Mattress, Twin       NaN  NAPQUEEN   \n",
       "7        NapQueen Elsa 8\" Innerspring Mattress, Full       NaN  NAPQUEEN   \n",
       "8  NapQueen Margaret 8\" Charcoal Memory Foam Matt...       NaN  NAPQUEEN   \n",
       "9       NapQueen Elsa 8\" Innerspring Mattress, Queen       NaN  NAPQUEEN   \n",
       "\n",
       "   units  unit_price  \n",
       "0    0.0         0.0  \n",
       "1    0.0         0.0  \n",
       "2    0.0         0.0  \n",
       "3    0.0         0.0  \n",
       "4    0.0         0.0  \n",
       "5    0.0         0.0  \n",
       "6    0.0         0.0  \n",
       "7    0.0         0.0  \n",
       "8    0.0         0.0  \n",
       "9    0.0         0.0  "
      ]
     },
     "execution_count": 3,
     "metadata": {},
     "output_type": "execute_result"
    }
   ],
   "source": [
    "train_data.head(10)"
   ]
  },
  {
   "cell_type": "code",
   "execution_count": 4,
   "id": "b4556362",
   "metadata": {},
   "outputs": [
    {
     "data": {
      "text/plain": [
       "ID             object\n",
       "date           object\n",
       "Item Id        object\n",
       "Item Name      object\n",
       "ad_spend      float64\n",
       "anarix_id      object\n",
       "units         float64\n",
       "unit_price    float64\n",
       "dtype: object"
      ]
     },
     "execution_count": 4,
     "metadata": {},
     "output_type": "execute_result"
    }
   ],
   "source": [
    "train_data.dtypes"
   ]
  },
  {
   "cell_type": "code",
   "execution_count": 5,
   "id": "566ec3df",
   "metadata": {},
   "outputs": [
    {
     "data": {
      "text/plain": [
       "(101490, 8)"
      ]
     },
     "execution_count": 5,
     "metadata": {},
     "output_type": "execute_result"
    }
   ],
   "source": [
    "train_data.shape"
   ]
  },
  {
   "cell_type": "markdown",
   "id": "0054ec5c",
   "metadata": {},
   "source": [
    "# PREPROCESSING THE DATA"
   ]
  },
  {
   "cell_type": "code",
   "execution_count": 6,
   "id": "fbd9f15c",
   "metadata": {},
   "outputs": [
    {
     "data": {
      "text/plain": [
       "ID                0\n",
       "date              0\n",
       "Item Id           2\n",
       "Item Name      1832\n",
       "ad_spend      24187\n",
       "anarix_id         0\n",
       "units         17898\n",
       "unit_price        0\n",
       "dtype: int64"
      ]
     },
     "execution_count": 6,
     "metadata": {},
     "output_type": "execute_result"
    }
   ],
   "source": [
    "train_data.isna().sum()"
   ]
  },
  {
   "cell_type": "code",
   "execution_count": null,
   "id": "929a4c16",
   "metadata": {},
   "outputs": [],
   "source": []
  },
  {
   "cell_type": "code",
   "execution_count": 7,
   "id": "4b2b5b86",
   "metadata": {},
   "outputs": [
    {
     "data": {
      "text/plain": [
       "217"
      ]
     },
     "execution_count": 7,
     "metadata": {},
     "output_type": "execute_result"
    }
   ],
   "source": [
    "train_data[\"Item Id\"].nunique()"
   ]
  },
  {
   "cell_type": "code",
   "execution_count": 8,
   "id": "f389289b",
   "metadata": {},
   "outputs": [
    {
     "data": {
      "text/plain": [
       "199"
      ]
     },
     "execution_count": 8,
     "metadata": {},
     "output_type": "execute_result"
    }
   ],
   "source": [
    "train_data[\"Item Name\"].nunique()"
   ]
  },
  {
   "cell_type": "code",
   "execution_count": 9,
   "id": "d8cd0c22",
   "metadata": {},
   "outputs": [
    {
     "name": "stdout",
     "output_type": "stream",
     "text": [
      "<class 'pandas.core.frame.DataFrame'>\n",
      "RangeIndex: 101490 entries, 0 to 101489\n",
      "Data columns (total 8 columns):\n",
      " #   Column      Non-Null Count   Dtype  \n",
      "---  ------      --------------   -----  \n",
      " 0   ID          101490 non-null  object \n",
      " 1   date        101490 non-null  object \n",
      " 2   Item Id     101488 non-null  object \n",
      " 3   Item Name   99658 non-null   object \n",
      " 4   ad_spend    77303 non-null   float64\n",
      " 5   anarix_id   101490 non-null  object \n",
      " 6   units       83592 non-null   float64\n",
      " 7   unit_price  101490 non-null  float64\n",
      "dtypes: float64(3), object(5)\n",
      "memory usage: 6.2+ MB\n"
     ]
    }
   ],
   "source": [
    "train_data.info()"
   ]
  },
  {
   "cell_type": "code",
   "execution_count": 10,
   "id": "c3bf277c",
   "metadata": {},
   "outputs": [
    {
     "data": {
      "text/plain": [
       "19426"
      ]
     },
     "execution_count": 10,
     "metadata": {},
     "output_type": "execute_result"
    }
   ],
   "source": [
    "train_data[\"ad_spend\"].nunique()"
   ]
  },
  {
   "cell_type": "code",
   "execution_count": 11,
   "id": "f170431c",
   "metadata": {},
   "outputs": [
    {
     "data": {
      "text/plain": [
       "1"
      ]
     },
     "execution_count": 11,
     "metadata": {},
     "output_type": "execute_result"
    }
   ],
   "source": [
    "train_data[\"anarix_id\"].nunique()"
   ]
  },
  {
   "cell_type": "code",
   "execution_count": 12,
   "id": "03193322",
   "metadata": {},
   "outputs": [],
   "source": [
    "#train_data=train_data.drop([\"anarix_id\",\"Item Id\",\"Item Name\",\"date\",\"ID\"],axis=1)"
   ]
  },
  {
   "cell_type": "code",
   "execution_count": 13,
   "id": "8aed8d82",
   "metadata": {},
   "outputs": [
    {
     "data": {
      "text/html": [
       "<div>\n",
       "<style scoped>\n",
       "    .dataframe tbody tr th:only-of-type {\n",
       "        vertical-align: middle;\n",
       "    }\n",
       "\n",
       "    .dataframe tbody tr th {\n",
       "        vertical-align: top;\n",
       "    }\n",
       "\n",
       "    .dataframe thead th {\n",
       "        text-align: right;\n",
       "    }\n",
       "</style>\n",
       "<table border=\"1\" class=\"dataframe\">\n",
       "  <thead>\n",
       "    <tr style=\"text-align: right;\">\n",
       "      <th></th>\n",
       "      <th>ID</th>\n",
       "      <th>date</th>\n",
       "      <th>Item Id</th>\n",
       "      <th>Item Name</th>\n",
       "      <th>ad_spend</th>\n",
       "      <th>anarix_id</th>\n",
       "      <th>units</th>\n",
       "      <th>unit_price</th>\n",
       "    </tr>\n",
       "  </thead>\n",
       "  <tbody>\n",
       "    <tr>\n",
       "      <th>0</th>\n",
       "      <td>2022-04-12_B09KDTS4DC</td>\n",
       "      <td>2022-04-12</td>\n",
       "      <td>B09KDTS4DC</td>\n",
       "      <td>NapQueen Elizabeth 8\" Gel Memory Foam Mattress...</td>\n",
       "      <td>NaN</td>\n",
       "      <td>NAPQUEEN</td>\n",
       "      <td>0.0</td>\n",
       "      <td>0.00</td>\n",
       "    </tr>\n",
       "    <tr>\n",
       "      <th>1</th>\n",
       "      <td>2022-04-12_B09MR2MLZH</td>\n",
       "      <td>2022-04-12</td>\n",
       "      <td>B09MR2MLZH</td>\n",
       "      <td>NapQueen 12 Inch Bamboo Charcoal Queen Size Me...</td>\n",
       "      <td>NaN</td>\n",
       "      <td>NAPQUEEN</td>\n",
       "      <td>0.0</td>\n",
       "      <td>0.00</td>\n",
       "    </tr>\n",
       "    <tr>\n",
       "      <th>2</th>\n",
       "      <td>2022-04-12_B09KSYL73R</td>\n",
       "      <td>2022-04-12</td>\n",
       "      <td>B09KSYL73R</td>\n",
       "      <td>NapQueen Elsa 8\" Innerspring Mattress, Twin XL</td>\n",
       "      <td>NaN</td>\n",
       "      <td>NAPQUEEN</td>\n",
       "      <td>0.0</td>\n",
       "      <td>0.00</td>\n",
       "    </tr>\n",
       "    <tr>\n",
       "      <th>3</th>\n",
       "      <td>2022-04-12_B09KT5HMNY</td>\n",
       "      <td>2022-04-12</td>\n",
       "      <td>B09KT5HMNY</td>\n",
       "      <td>NapQueen Elsa 6\" Innerspring Mattress, Twin</td>\n",
       "      <td>NaN</td>\n",
       "      <td>NAPQUEEN</td>\n",
       "      <td>0.0</td>\n",
       "      <td>0.00</td>\n",
       "    </tr>\n",
       "    <tr>\n",
       "      <th>4</th>\n",
       "      <td>2022-04-12_B09KTF8ZDQ</td>\n",
       "      <td>2022-04-12</td>\n",
       "      <td>B09KTF8ZDQ</td>\n",
       "      <td>NapQueen Elsa 6\" Innerspring Mattress, Twin XL</td>\n",
       "      <td>NaN</td>\n",
       "      <td>NAPQUEEN</td>\n",
       "      <td>0.0</td>\n",
       "      <td>0.00</td>\n",
       "    </tr>\n",
       "    <tr>\n",
       "      <th>...</th>\n",
       "      <td>...</td>\n",
       "      <td>...</td>\n",
       "      <td>...</td>\n",
       "      <td>...</td>\n",
       "      <td>...</td>\n",
       "      <td>...</td>\n",
       "      <td>...</td>\n",
       "      <td>...</td>\n",
       "    </tr>\n",
       "    <tr>\n",
       "      <th>101485</th>\n",
       "      <td>2024-05-31_B0CR4BGLK5</td>\n",
       "      <td>2024-05-31</td>\n",
       "      <td>B0CR4BGLK5</td>\n",
       "      <td>NaN</td>\n",
       "      <td>604.73</td>\n",
       "      <td>NAPQUEEN</td>\n",
       "      <td>NaN</td>\n",
       "      <td>0.00</td>\n",
       "    </tr>\n",
       "    <tr>\n",
       "      <th>101486</th>\n",
       "      <td>2024-05-31_B0CR4BG4ZW</td>\n",
       "      <td>2024-05-31</td>\n",
       "      <td>B0CR4BG4ZW</td>\n",
       "      <td>NaN</td>\n",
       "      <td>261.21</td>\n",
       "      <td>NAPQUEEN</td>\n",
       "      <td>2.0</td>\n",
       "      <td>225.32</td>\n",
       "    </tr>\n",
       "    <tr>\n",
       "      <th>101487</th>\n",
       "      <td>2024-05-31_B0CR49NR3B</td>\n",
       "      <td>2024-05-31</td>\n",
       "      <td>B0CR49NR3B</td>\n",
       "      <td>NaN</td>\n",
       "      <td>0.00</td>\n",
       "      <td>NAPQUEEN</td>\n",
       "      <td>NaN</td>\n",
       "      <td>0.00</td>\n",
       "    </tr>\n",
       "    <tr>\n",
       "      <th>101488</th>\n",
       "      <td>2024-05-31_B0CR49N6MQ</td>\n",
       "      <td>2024-05-31</td>\n",
       "      <td>B0CR49N6MQ</td>\n",
       "      <td>NaN</td>\n",
       "      <td>0.00</td>\n",
       "      <td>NAPQUEEN</td>\n",
       "      <td>NaN</td>\n",
       "      <td>0.00</td>\n",
       "    </tr>\n",
       "    <tr>\n",
       "      <th>101489</th>\n",
       "      <td>2024-05-31_B0CR4BK4FW</td>\n",
       "      <td>2024-05-31</td>\n",
       "      <td>B0CR4BK4FW</td>\n",
       "      <td>NaN</td>\n",
       "      <td>0.00</td>\n",
       "      <td>NAPQUEEN</td>\n",
       "      <td>NaN</td>\n",
       "      <td>0.00</td>\n",
       "    </tr>\n",
       "  </tbody>\n",
       "</table>\n",
       "<p>101490 rows × 8 columns</p>\n",
       "</div>"
      ],
      "text/plain": [
       "                           ID        date     Item Id  \\\n",
       "0       2022-04-12_B09KDTS4DC  2022-04-12  B09KDTS4DC   \n",
       "1       2022-04-12_B09MR2MLZH  2022-04-12  B09MR2MLZH   \n",
       "2       2022-04-12_B09KSYL73R  2022-04-12  B09KSYL73R   \n",
       "3       2022-04-12_B09KT5HMNY  2022-04-12  B09KT5HMNY   \n",
       "4       2022-04-12_B09KTF8ZDQ  2022-04-12  B09KTF8ZDQ   \n",
       "...                       ...         ...         ...   \n",
       "101485  2024-05-31_B0CR4BGLK5  2024-05-31  B0CR4BGLK5   \n",
       "101486  2024-05-31_B0CR4BG4ZW  2024-05-31  B0CR4BG4ZW   \n",
       "101487  2024-05-31_B0CR49NR3B  2024-05-31  B0CR49NR3B   \n",
       "101488  2024-05-31_B0CR49N6MQ  2024-05-31  B0CR49N6MQ   \n",
       "101489  2024-05-31_B0CR4BK4FW  2024-05-31  B0CR4BK4FW   \n",
       "\n",
       "                                                Item Name  ad_spend anarix_id  \\\n",
       "0       NapQueen Elizabeth 8\" Gel Memory Foam Mattress...       NaN  NAPQUEEN   \n",
       "1       NapQueen 12 Inch Bamboo Charcoal Queen Size Me...       NaN  NAPQUEEN   \n",
       "2          NapQueen Elsa 8\" Innerspring Mattress, Twin XL       NaN  NAPQUEEN   \n",
       "3             NapQueen Elsa 6\" Innerspring Mattress, Twin       NaN  NAPQUEEN   \n",
       "4          NapQueen Elsa 6\" Innerspring Mattress, Twin XL       NaN  NAPQUEEN   \n",
       "...                                                   ...       ...       ...   \n",
       "101485                                                NaN    604.73  NAPQUEEN   \n",
       "101486                                                NaN    261.21  NAPQUEEN   \n",
       "101487                                                NaN      0.00  NAPQUEEN   \n",
       "101488                                                NaN      0.00  NAPQUEEN   \n",
       "101489                                                NaN      0.00  NAPQUEEN   \n",
       "\n",
       "        units  unit_price  \n",
       "0         0.0        0.00  \n",
       "1         0.0        0.00  \n",
       "2         0.0        0.00  \n",
       "3         0.0        0.00  \n",
       "4         0.0        0.00  \n",
       "...       ...         ...  \n",
       "101485    NaN        0.00  \n",
       "101486    2.0      225.32  \n",
       "101487    NaN        0.00  \n",
       "101488    NaN        0.00  \n",
       "101489    NaN        0.00  \n",
       "\n",
       "[101490 rows x 8 columns]"
      ]
     },
     "execution_count": 13,
     "metadata": {},
     "output_type": "execute_result"
    }
   ],
   "source": [
    "train_data"
   ]
  },
  {
   "cell_type": "markdown",
   "id": "70069013",
   "metadata": {},
   "source": [
    "After finding the missing values. I have filled the null values of \"ad_spend\" column with 0. Since it is better to assume that they have not used any money for advertisement.\n"
   ]
  },
  {
   "cell_type": "code",
   "execution_count": 14,
   "id": "60868257",
   "metadata": {},
   "outputs": [],
   "source": [
    "# Fill missing ad_spend with median\n",
    "train_data['ad_spend'].fillna(0, inplace=True)\n",
    "train_data['Item Id'].fillna(1,inplace=True)\n"
   ]
  },
  {
   "cell_type": "code",
   "execution_count": 15,
   "id": "aff62d57",
   "metadata": {},
   "outputs": [
    {
     "name": "stdout",
     "output_type": "stream",
     "text": [
      "0\n"
     ]
    }
   ],
   "source": [
    "#checking for the duplicate values.\n",
    "print(train_data.duplicated().sum())"
   ]
  },
  {
   "cell_type": "code",
   "execution_count": 16,
   "id": "d4564c47",
   "metadata": {},
   "outputs": [],
   "source": [
    "train_data.reset_index(drop=True, inplace=True)"
   ]
  },
  {
   "cell_type": "markdown",
   "id": "79d7592a",
   "metadata": {},
   "source": [
    "Here, I have filled the null values of the \"unit_price\" and \"units\" column by the mean value of that particular item id"
   ]
  },
  {
   "cell_type": "code",
   "execution_count": 17,
   "id": "1db20f0b",
   "metadata": {},
   "outputs": [],
   "source": [
    "for column in [ 'unit_price', 'units']:\n",
    "    train_data[column] = train_data.groupby('Item Id')[column].transform(lambda x: x.fillna(x.mean()))"
   ]
  },
  {
   "cell_type": "code",
   "execution_count": 18,
   "id": "40d5458c",
   "metadata": {},
   "outputs": [],
   "source": [
    "train_data['units'].fillna(0, inplace=True)"
   ]
  },
  {
   "cell_type": "code",
   "execution_count": 19,
   "id": "f429294a",
   "metadata": {},
   "outputs": [
    {
     "data": {
      "text/plain": [
       "ID               0\n",
       "date             0\n",
       "Item Id          0\n",
       "Item Name     1832\n",
       "ad_spend         0\n",
       "anarix_id        0\n",
       "units            0\n",
       "unit_price       0\n",
       "dtype: int64"
      ]
     },
     "execution_count": 19,
     "metadata": {},
     "output_type": "execute_result"
    }
   ],
   "source": [
    "train_data.isna().sum()"
   ]
  },
  {
   "cell_type": "markdown",
   "id": "a1364bd5",
   "metadata": {},
   "source": [
    "# EXPLORATORY DATA ANALYSIS"
   ]
  },
  {
   "cell_type": "markdown",
   "id": "acd7f14d",
   "metadata": {},
   "source": [
    "Removing the columns which have no correlation with the dependent variable."
   ]
  },
  {
   "cell_type": "code",
   "execution_count": 20,
   "id": "3f172106",
   "metadata": {},
   "outputs": [],
   "source": [
    "df_encoded = pd.get_dummies(train_data, columns=['anarix_id','Item Id'])"
   ]
  },
  {
   "cell_type": "code",
   "execution_count": 21,
   "id": "a1ee5ef1",
   "metadata": {},
   "outputs": [
    {
     "data": {
      "text/html": [
       "<div>\n",
       "<style scoped>\n",
       "    .dataframe tbody tr th:only-of-type {\n",
       "        vertical-align: middle;\n",
       "    }\n",
       "\n",
       "    .dataframe tbody tr th {\n",
       "        vertical-align: top;\n",
       "    }\n",
       "\n",
       "    .dataframe thead th {\n",
       "        text-align: right;\n",
       "    }\n",
       "</style>\n",
       "<table border=\"1\" class=\"dataframe\">\n",
       "  <thead>\n",
       "    <tr style=\"text-align: right;\">\n",
       "      <th></th>\n",
       "      <th>ad_spend</th>\n",
       "      <th>units</th>\n",
       "      <th>unit_price</th>\n",
       "    </tr>\n",
       "  </thead>\n",
       "  <tbody>\n",
       "    <tr>\n",
       "      <th>ad_spend</th>\n",
       "      <td>1.000000</td>\n",
       "      <td>0.744339</td>\n",
       "      <td>0.054472</td>\n",
       "    </tr>\n",
       "    <tr>\n",
       "      <th>units</th>\n",
       "      <td>0.744339</td>\n",
       "      <td>1.000000</td>\n",
       "      <td>0.094686</td>\n",
       "    </tr>\n",
       "    <tr>\n",
       "      <th>unit_price</th>\n",
       "      <td>0.054472</td>\n",
       "      <td>0.094686</td>\n",
       "      <td>1.000000</td>\n",
       "    </tr>\n",
       "  </tbody>\n",
       "</table>\n",
       "</div>"
      ],
      "text/plain": [
       "            ad_spend     units  unit_price\n",
       "ad_spend    1.000000  0.744339    0.054472\n",
       "units       0.744339  1.000000    0.094686\n",
       "unit_price  0.054472  0.094686    1.000000"
      ]
     },
     "execution_count": 21,
     "metadata": {},
     "output_type": "execute_result"
    }
   ],
   "source": [
    "train_data.corr()"
   ]
  },
  {
   "cell_type": "code",
   "execution_count": 23,
   "id": "d5f1c8ef",
   "metadata": {},
   "outputs": [
    {
     "data": {
      "image/png": "[encoded data removed]",
      "text/plain": [
       "<Figure size 1200x1000 with 2 Axes>"
      ]
     },
     "metadata": {},
     "output_type": "display_data"
    }
   ],
   "source": [
    "# Correlation Heatmap\n",
    "import seaborn as sns\n",
    "import matplotlib.pyplot as plt\n",
    "\n",
    "corr_matrix = train_data.corr()\n",
    "plt.figure(figsize=(12, 10))\n",
    "sns.heatmap(corr_matrix, annot=True, cmap='coolwarm', linewidths=0.5)\n",
    "plt.title('Correlation Map')\n",
    "plt.show()"
   ]
  },
  {
   "cell_type": "code",
   "execution_count": 24,
   "id": "03c7fd1f",
   "metadata": {},
   "outputs": [],
   "source": [
    "X=train_data.drop([\"units\",\"anarix_id\",\"Item Id\",\"Item Name\",\"date\",\"ID\"],axis=1)\n",
    "y=train_data[\"units\"]"
   ]
  },
  {
   "cell_type": "code",
   "execution_count": null,
   "id": "ddc51ed7",
   "metadata": {},
   "outputs": [],
   "source": []
  },
  {
   "cell_type": "code",
   "execution_count": 25,
   "id": "cb52b3fd",
   "metadata": {},
   "outputs": [
    {
     "data": {
      "text/plain": [
       "ad_spend      0\n",
       "unit_price    0\n",
       "dtype: int64"
      ]
     },
     "execution_count": 25,
     "metadata": {},
     "output_type": "execute_result"
    }
   ],
   "source": [
    "X.isna().sum()"
   ]
  },
  {
   "cell_type": "code",
   "execution_count": null,
   "id": "ee922cd2",
   "metadata": {},
   "outputs": [],
   "source": []
  },
  {
   "cell_type": "code",
   "execution_count": 26,
   "id": "be2c9bf5",
   "metadata": {},
   "outputs": [
    {
     "data": {
      "text/html": [
       "<div>\n",
       "<style scoped>\n",
       "    .dataframe tbody tr th:only-of-type {\n",
       "        vertical-align: middle;\n",
       "    }\n",
       "\n",
       "    .dataframe tbody tr th {\n",
       "        vertical-align: top;\n",
       "    }\n",
       "\n",
       "    .dataframe thead th {\n",
       "        text-align: right;\n",
       "    }\n",
       "</style>\n",
       "<table border=\"1\" class=\"dataframe\">\n",
       "  <thead>\n",
       "    <tr style=\"text-align: right;\">\n",
       "      <th></th>\n",
       "      <th>ad_spend</th>\n",
       "      <th>unit_price</th>\n",
       "    </tr>\n",
       "  </thead>\n",
       "  <tbody>\n",
       "    <tr>\n",
       "      <th>0</th>\n",
       "      <td>0.00</td>\n",
       "      <td>0.00</td>\n",
       "    </tr>\n",
       "    <tr>\n",
       "      <th>1</th>\n",
       "      <td>0.00</td>\n",
       "      <td>0.00</td>\n",
       "    </tr>\n",
       "    <tr>\n",
       "      <th>2</th>\n",
       "      <td>0.00</td>\n",
       "      <td>0.00</td>\n",
       "    </tr>\n",
       "    <tr>\n",
       "      <th>3</th>\n",
       "      <td>0.00</td>\n",
       "      <td>0.00</td>\n",
       "    </tr>\n",
       "    <tr>\n",
       "      <th>4</th>\n",
       "      <td>0.00</td>\n",
       "      <td>0.00</td>\n",
       "    </tr>\n",
       "    <tr>\n",
       "      <th>...</th>\n",
       "      <td>...</td>\n",
       "      <td>...</td>\n",
       "    </tr>\n",
       "    <tr>\n",
       "      <th>101485</th>\n",
       "      <td>604.73</td>\n",
       "      <td>0.00</td>\n",
       "    </tr>\n",
       "    <tr>\n",
       "      <th>101486</th>\n",
       "      <td>261.21</td>\n",
       "      <td>225.32</td>\n",
       "    </tr>\n",
       "    <tr>\n",
       "      <th>101487</th>\n",
       "      <td>0.00</td>\n",
       "      <td>0.00</td>\n",
       "    </tr>\n",
       "    <tr>\n",
       "      <th>101488</th>\n",
       "      <td>0.00</td>\n",
       "      <td>0.00</td>\n",
       "    </tr>\n",
       "    <tr>\n",
       "      <th>101489</th>\n",
       "      <td>0.00</td>\n",
       "      <td>0.00</td>\n",
       "    </tr>\n",
       "  </tbody>\n",
       "</table>\n",
       "<p>101490 rows × 2 columns</p>\n",
       "</div>"
      ],
      "text/plain": [
       "        ad_spend  unit_price\n",
       "0           0.00        0.00\n",
       "1           0.00        0.00\n",
       "2           0.00        0.00\n",
       "3           0.00        0.00\n",
       "4           0.00        0.00\n",
       "...          ...         ...\n",
       "101485    604.73        0.00\n",
       "101486    261.21      225.32\n",
       "101487      0.00        0.00\n",
       "101488      0.00        0.00\n",
       "101489      0.00        0.00\n",
       "\n",
       "[101490 rows x 2 columns]"
      ]
     },
     "execution_count": 26,
     "metadata": {},
     "output_type": "execute_result"
    }
   ],
   "source": [
    "X"
   ]
  },
  {
   "cell_type": "code",
   "execution_count": 27,
   "id": "34895be0",
   "metadata": {},
   "outputs": [
    {
     "data": {
      "text/plain": [
       "0"
      ]
     },
     "execution_count": 27,
     "metadata": {},
     "output_type": "execute_result"
    }
   ],
   "source": [
    "y.isna().sum()"
   ]
  },
  {
   "cell_type": "markdown",
   "id": "2d466e64",
   "metadata": {},
   "source": [
    "# MODEL FITTING AND EVALUATION"
   ]
  },
  {
   "cell_type": "code",
   "execution_count": 28,
   "id": "74047f42",
   "metadata": {},
   "outputs": [],
   "source": [
    "from sklearn.model_selection import train_test_split\n",
    "from sklearn.metrics import mean_squared_error\n",
    "\n",
    "\n",
    "\n",
    "# Split the data into training and testing sets\n",
    "X_train, X_test, y_train, y_test = train_test_split(X, y, test_size=0.2, random_state=42)"
   ]
  },
  {
   "cell_type": "markdown",
   "id": "373dde96",
   "metadata": {},
   "source": [
    "LINEAR REGRESSION"
   ]
  },
  {
   "cell_type": "code",
   "execution_count": 29,
   "id": "784b74e6",
   "metadata": {},
   "outputs": [
    {
     "name": "stdout",
     "output_type": "stream",
     "text": [
      "Mean Squared Error: 1407.4349721035123\n"
     ]
    }
   ],
   "source": [
    "from sklearn.linear_model import LinearRegression\n",
    "\n",
    "model = LinearRegression()\n",
    "model.fit(X_train, y_train)\n",
    "\n",
    "# Making predictions\n",
    "y_pred = model.predict(X_test)\n",
    "\n",
    "# Evaluating the model\n",
    "mse = mean_squared_error(y_test, y_pred)\n",
    "\n",
    "print(f'Mean Squared Error: {mse}')\n",
    "\n"
   ]
  },
  {
   "cell_type": "code",
   "execution_count": 30,
   "id": "f1f00441",
   "metadata": {},
   "outputs": [
    {
     "name": "stdout",
     "output_type": "stream",
     "text": [
      "Mean Squared Error: 1407.4349721035123\n"
     ]
    }
   ],
   "source": [
    "from xgboost import XGBRegressor\n",
    "model2 = XGBRegressor()\n",
    "model2.fit(X_train, y_train)\n",
    "\n",
    "# Make predictions\n",
    "y_pred2 = model2.predict(X_test)\n",
    "\n",
    "# Evaluate the model\n",
    "mse2 = mean_squared_error(y_test, y_pred2)\n",
    "print(f'Mean Squared Error: {mse}')"
   ]
  },
  {
   "cell_type": "code",
   "execution_count": 31,
   "id": "bb0aeeea",
   "metadata": {},
   "outputs": [],
   "source": [
    "test_data=test_data.drop([\"anarix_id\",\"Item Id\",\"Item Name\",\"date\"],axis=1)"
   ]
  },
  {
   "cell_type": "code",
   "execution_count": 32,
   "id": "0ddbb384",
   "metadata": {},
   "outputs": [
    {
     "data": {
      "text/html": [
       "<div>\n",
       "<style scoped>\n",
       "    .dataframe tbody tr th:only-of-type {\n",
       "        vertical-align: middle;\n",
       "    }\n",
       "\n",
       "    .dataframe tbody tr th {\n",
       "        vertical-align: top;\n",
       "    }\n",
       "\n",
       "    .dataframe thead th {\n",
       "        text-align: right;\n",
       "    }\n",
       "</style>\n",
       "<table border=\"1\" class=\"dataframe\">\n",
       "  <thead>\n",
       "    <tr style=\"text-align: right;\">\n",
       "      <th></th>\n",
       "      <th>ID</th>\n",
       "      <th>ad_spend</th>\n",
       "      <th>unit_price</th>\n",
       "    </tr>\n",
       "  </thead>\n",
       "  <tbody>\n",
       "    <tr>\n",
       "      <th>0</th>\n",
       "      <td>2024-07-01_B09KDR64LT</td>\n",
       "      <td>NaN</td>\n",
       "      <td>0.0</td>\n",
       "    </tr>\n",
       "    <tr>\n",
       "      <th>1</th>\n",
       "      <td>2024-07-01_B09KDTS4DC</td>\n",
       "      <td>NaN</td>\n",
       "      <td>0.0</td>\n",
       "    </tr>\n",
       "    <tr>\n",
       "      <th>2</th>\n",
       "      <td>2024-07-01_B09KDTHJ6V</td>\n",
       "      <td>NaN</td>\n",
       "      <td>0.0</td>\n",
       "    </tr>\n",
       "    <tr>\n",
       "      <th>3</th>\n",
       "      <td>2024-07-01_B09KDQ2BWY</td>\n",
       "      <td>NaN</td>\n",
       "      <td>0.0</td>\n",
       "    </tr>\n",
       "    <tr>\n",
       "      <th>4</th>\n",
       "      <td>2024-07-01_B09KDYY3SB</td>\n",
       "      <td>101.72</td>\n",
       "      <td>1094.5</td>\n",
       "    </tr>\n",
       "    <tr>\n",
       "      <th>...</th>\n",
       "      <td>...</td>\n",
       "      <td>...</td>\n",
       "      <td>...</td>\n",
       "    </tr>\n",
       "    <tr>\n",
       "      <th>2828</th>\n",
       "      <td>2024-07-28_B0BRCW2B64</td>\n",
       "      <td>11.78</td>\n",
       "      <td>0.0</td>\n",
       "    </tr>\n",
       "    <tr>\n",
       "      <th>2829</th>\n",
       "      <td>2024-07-28_B0CFV6V981</td>\n",
       "      <td>1.17</td>\n",
       "      <td>0.0</td>\n",
       "    </tr>\n",
       "    <tr>\n",
       "      <th>2830</th>\n",
       "      <td>2024-07-28_B0BNL5BKMK</td>\n",
       "      <td>0.00</td>\n",
       "      <td>0.0</td>\n",
       "    </tr>\n",
       "    <tr>\n",
       "      <th>2831</th>\n",
       "      <td>2024-07-28_B0CR49BQRS</td>\n",
       "      <td>1.87</td>\n",
       "      <td>0.0</td>\n",
       "    </tr>\n",
       "    <tr>\n",
       "      <th>2832</th>\n",
       "      <td>2024-07-28_B0CY5QQ49F</td>\n",
       "      <td>1.45</td>\n",
       "      <td>0.0</td>\n",
       "    </tr>\n",
       "  </tbody>\n",
       "</table>\n",
       "<p>2833 rows × 3 columns</p>\n",
       "</div>"
      ],
      "text/plain": [
       "                         ID  ad_spend  unit_price\n",
       "0     2024-07-01_B09KDR64LT       NaN         0.0\n",
       "1     2024-07-01_B09KDTS4DC       NaN         0.0\n",
       "2     2024-07-01_B09KDTHJ6V       NaN         0.0\n",
       "3     2024-07-01_B09KDQ2BWY       NaN         0.0\n",
       "4     2024-07-01_B09KDYY3SB    101.72      1094.5\n",
       "...                     ...       ...         ...\n",
       "2828  2024-07-28_B0BRCW2B64     11.78         0.0\n",
       "2829  2024-07-28_B0CFV6V981      1.17         0.0\n",
       "2830  2024-07-28_B0BNL5BKMK      0.00         0.0\n",
       "2831  2024-07-28_B0CR49BQRS      1.87         0.0\n",
       "2832  2024-07-28_B0CY5QQ49F      1.45         0.0\n",
       "\n",
       "[2833 rows x 3 columns]"
      ]
     },
     "execution_count": 32,
     "metadata": {},
     "output_type": "execute_result"
    }
   ],
   "source": [
    "test_data"
   ]
  },
  {
   "cell_type": "code",
   "execution_count": 33,
   "id": "a33243bb",
   "metadata": {},
   "outputs": [],
   "source": [
    "# Fill missing ad_spend with median\n",
    "test_data['ad_spend'].fillna(0, inplace=True)\n",
    "\n",
    "# Fill missing units with median\n",
    "test_data['unit_price'].fillna(0, inplace=True)"
   ]
  },
  {
   "cell_type": "code",
   "execution_count": 34,
   "id": "1c71396b",
   "metadata": {},
   "outputs": [],
   "source": [
    "test_data=test_data.drop([\"ID\"],axis=1)"
   ]
  },
  {
   "cell_type": "code",
   "execution_count": 35,
   "id": "8c57785e",
   "metadata": {},
   "outputs": [],
   "source": [
    "y_pred1 = model.predict(test_data)"
   ]
  },
  {
   "cell_type": "code",
   "execution_count": 36,
   "id": "0dbea23e",
   "metadata": {},
   "outputs": [
    {
     "data": {
      "text/plain": [
       "array([-1.11898259, -1.11898259, -1.11898259, ..., -1.11898259,\n",
       "       -0.92423433, -0.96797459])"
      ]
     },
     "execution_count": 36,
     "metadata": {},
     "output_type": "execute_result"
    }
   ],
   "source": [
    "y_pred1"
   ]
  },
  {
   "cell_type": "code",
   "execution_count": 37,
   "id": "cc7ad12a",
   "metadata": {},
   "outputs": [
    {
     "data": {
      "text/html": [
       "<div>\n",
       "<style scoped>\n",
       "    .dataframe tbody tr th:only-of-type {\n",
       "        vertical-align: middle;\n",
       "    }\n",
       "\n",
       "    .dataframe tbody tr th {\n",
       "        vertical-align: top;\n",
       "    }\n",
       "\n",
       "    .dataframe thead th {\n",
       "        text-align: right;\n",
       "    }\n",
       "</style>\n",
       "<table border=\"1\" class=\"dataframe\">\n",
       "  <thead>\n",
       "    <tr style=\"text-align: right;\">\n",
       "      <th></th>\n",
       "      <th>ID</th>\n",
       "      <th>TARGET</th>\n",
       "    </tr>\n",
       "  </thead>\n",
       "  <tbody>\n",
       "    <tr>\n",
       "      <th>0</th>\n",
       "      <td>2024-07-01_B09KDR64LT</td>\n",
       "      <td>0</td>\n",
       "    </tr>\n",
       "    <tr>\n",
       "      <th>1</th>\n",
       "      <td>2024-07-01_B09KDTS4DC</td>\n",
       "      <td>0</td>\n",
       "    </tr>\n",
       "    <tr>\n",
       "      <th>2</th>\n",
       "      <td>2024-07-01_B09KDTHJ6V</td>\n",
       "      <td>0</td>\n",
       "    </tr>\n",
       "    <tr>\n",
       "      <th>3</th>\n",
       "      <td>2024-07-01_B09KDQ2BWY</td>\n",
       "      <td>0</td>\n",
       "    </tr>\n",
       "    <tr>\n",
       "      <th>4</th>\n",
       "      <td>2024-07-01_B09KDYY3SB</td>\n",
       "      <td>0</td>\n",
       "    </tr>\n",
       "    <tr>\n",
       "      <th>...</th>\n",
       "      <td>...</td>\n",
       "      <td>...</td>\n",
       "    </tr>\n",
       "    <tr>\n",
       "      <th>2828</th>\n",
       "      <td>2024-07-28_B0BRCW2B64</td>\n",
       "      <td>0</td>\n",
       "    </tr>\n",
       "    <tr>\n",
       "      <th>2829</th>\n",
       "      <td>2024-07-28_B0CFV6V981</td>\n",
       "      <td>0</td>\n",
       "    </tr>\n",
       "    <tr>\n",
       "      <th>2830</th>\n",
       "      <td>2024-07-28_B0BNL5BKMK</td>\n",
       "      <td>0</td>\n",
       "    </tr>\n",
       "    <tr>\n",
       "      <th>2831</th>\n",
       "      <td>2024-07-28_B0CR49BQRS</td>\n",
       "      <td>0</td>\n",
       "    </tr>\n",
       "    <tr>\n",
       "      <th>2832</th>\n",
       "      <td>2024-07-28_B0CY5QQ49F</td>\n",
       "      <td>0</td>\n",
       "    </tr>\n",
       "  </tbody>\n",
       "</table>\n",
       "<p>2833 rows × 2 columns</p>\n",
       "</div>"
      ],
      "text/plain": [
       "                         ID  TARGET\n",
       "0     2024-07-01_B09KDR64LT       0\n",
       "1     2024-07-01_B09KDTS4DC       0\n",
       "2     2024-07-01_B09KDTHJ6V       0\n",
       "3     2024-07-01_B09KDQ2BWY       0\n",
       "4     2024-07-01_B09KDYY3SB       0\n",
       "...                     ...     ...\n",
       "2828  2024-07-28_B0BRCW2B64       0\n",
       "2829  2024-07-28_B0CFV6V981       0\n",
       "2830  2024-07-28_B0BNL5BKMK       0\n",
       "2831  2024-07-28_B0CR49BQRS       0\n",
       "2832  2024-07-28_B0CY5QQ49F       0\n",
       "\n",
       "[2833 rows x 2 columns]"
      ]
     },
     "execution_count": 37,
     "metadata": {},
     "output_type": "execute_result"
    }
   ],
   "source": [
    "sample_data"
   ]
  },
  {
   "cell_type": "markdown",
   "id": "2cc82896",
   "metadata": {},
   "source": [
    "Saving the results from linear regression model into the submission file"
   ]
  },
  {
   "cell_type": "code",
   "execution_count": 38,
   "id": "8c262212",
   "metadata": {},
   "outputs": [],
   "source": [
    "sub=pd.read_csv(\"C:/Users/Ramini Varun Babu/Downloads/nap_queens assignment/sales_data/test.csv  \")"
   ]
  },
  {
   "cell_type": "code",
   "execution_count": 39,
   "id": "cd764e8a",
   "metadata": {},
   "outputs": [],
   "source": [
    "sub[\"Target\"]=y_pred1"
   ]
  },
  {
   "cell_type": "code",
   "execution_count": 40,
   "id": "a949a6d0",
   "metadata": {},
   "outputs": [
    {
     "data": {
      "text/html": [
       "<div>\n",
       "<style scoped>\n",
       "    .dataframe tbody tr th:only-of-type {\n",
       "        vertical-align: middle;\n",
       "    }\n",
       "\n",
       "    .dataframe tbody tr th {\n",
       "        vertical-align: top;\n",
       "    }\n",
       "\n",
       "    .dataframe thead th {\n",
       "        text-align: right;\n",
       "    }\n",
       "</style>\n",
       "<table border=\"1\" class=\"dataframe\">\n",
       "  <thead>\n",
       "    <tr style=\"text-align: right;\">\n",
       "      <th></th>\n",
       "      <th>ID</th>\n",
       "      <th>date</th>\n",
       "      <th>Item Id</th>\n",
       "      <th>Item Name</th>\n",
       "      <th>ad_spend</th>\n",
       "      <th>anarix_id</th>\n",
       "      <th>unit_price</th>\n",
       "      <th>Target</th>\n",
       "    </tr>\n",
       "  </thead>\n",
       "  <tbody>\n",
       "    <tr>\n",
       "      <th>0</th>\n",
       "      <td>2024-07-01_B09KDR64LT</td>\n",
       "      <td>2024-07-01</td>\n",
       "      <td>B09KDR64LT</td>\n",
       "      <td>NapQueen Elizabeth 10\" Gel Memory Foam Mattres...</td>\n",
       "      <td>NaN</td>\n",
       "      <td>NAPQUEEN</td>\n",
       "      <td>0.0</td>\n",
       "      <td>-1.118983</td>\n",
       "    </tr>\n",
       "    <tr>\n",
       "      <th>1</th>\n",
       "      <td>2024-07-01_B09KDTS4DC</td>\n",
       "      <td>2024-07-01</td>\n",
       "      <td>B09KDTS4DC</td>\n",
       "      <td>NapQueen Elizabeth 8\" Gel Memory Foam Mattress...</td>\n",
       "      <td>NaN</td>\n",
       "      <td>NAPQUEEN</td>\n",
       "      <td>0.0</td>\n",
       "      <td>-1.118983</td>\n",
       "    </tr>\n",
       "    <tr>\n",
       "      <th>2</th>\n",
       "      <td>2024-07-01_B09KDTHJ6V</td>\n",
       "      <td>2024-07-01</td>\n",
       "      <td>B09KDTHJ6V</td>\n",
       "      <td>NapQueen Elizabeth 12\" Gel Memory Foam Mattres...</td>\n",
       "      <td>NaN</td>\n",
       "      <td>NAPQUEEN</td>\n",
       "      <td>0.0</td>\n",
       "      <td>-1.118983</td>\n",
       "    </tr>\n",
       "    <tr>\n",
       "      <th>3</th>\n",
       "      <td>2024-07-01_B09KDQ2BWY</td>\n",
       "      <td>2024-07-01</td>\n",
       "      <td>B09KDQ2BWY</td>\n",
       "      <td>NapQueen Elizabeth 12\" Gel Memory Foam Mattres...</td>\n",
       "      <td>NaN</td>\n",
       "      <td>NAPQUEEN</td>\n",
       "      <td>0.0</td>\n",
       "      <td>-1.118983</td>\n",
       "    </tr>\n",
       "    <tr>\n",
       "      <th>4</th>\n",
       "      <td>2024-07-01_B09KDYY3SB</td>\n",
       "      <td>2024-07-01</td>\n",
       "      <td>B09KDYY3SB</td>\n",
       "      <td>NapQueen Elizabeth 10\" Gel Memory Foam Mattres...</td>\n",
       "      <td>101.72</td>\n",
       "      <td>NAPQUEEN</td>\n",
       "      <td>1094.5</td>\n",
       "      <td>18.072919</td>\n",
       "    </tr>\n",
       "    <tr>\n",
       "      <th>...</th>\n",
       "      <td>...</td>\n",
       "      <td>...</td>\n",
       "      <td>...</td>\n",
       "      <td>...</td>\n",
       "      <td>...</td>\n",
       "      <td>...</td>\n",
       "      <td>...</td>\n",
       "      <td>...</td>\n",
       "    </tr>\n",
       "    <tr>\n",
       "      <th>2828</th>\n",
       "      <td>2024-07-28_B0BRCW2B64</td>\n",
       "      <td>2024-07-28</td>\n",
       "      <td>B0BRCW2B64</td>\n",
       "      <td>NapQueen Anula Green Tea 12'', Queen</td>\n",
       "      <td>11.78</td>\n",
       "      <td>NAPQUEEN</td>\n",
       "      <td>0.0</td>\n",
       "      <td>0.107827</td>\n",
       "    </tr>\n",
       "    <tr>\n",
       "      <th>2829</th>\n",
       "      <td>2024-07-28_B0CFV6V981</td>\n",
       "      <td>2024-07-28</td>\n",
       "      <td>B0CFV6V981</td>\n",
       "      <td>NaN</td>\n",
       "      <td>1.17</td>\n",
       "      <td>NAPQUEEN</td>\n",
       "      <td>0.0</td>\n",
       "      <td>-0.997135</td>\n",
       "    </tr>\n",
       "    <tr>\n",
       "      <th>2830</th>\n",
       "      <td>2024-07-28_B0BNL5BKMK</td>\n",
       "      <td>2024-07-28</td>\n",
       "      <td>B0BNL5BKMK</td>\n",
       "      <td>NapQueen 2'' Bamboo Charcoal Mattress Topper, ...</td>\n",
       "      <td>0.00</td>\n",
       "      <td>NAPQUEEN</td>\n",
       "      <td>0.0</td>\n",
       "      <td>-1.118983</td>\n",
       "    </tr>\n",
       "    <tr>\n",
       "      <th>2831</th>\n",
       "      <td>2024-07-28_B0CR49BQRS</td>\n",
       "      <td>2024-07-28</td>\n",
       "      <td>B0CR49BQRS</td>\n",
       "      <td>NaN</td>\n",
       "      <td>1.87</td>\n",
       "      <td>NAPQUEEN</td>\n",
       "      <td>0.0</td>\n",
       "      <td>-0.924234</td>\n",
       "    </tr>\n",
       "    <tr>\n",
       "      <th>2832</th>\n",
       "      <td>2024-07-28_B0CY5QQ49F</td>\n",
       "      <td>2024-07-28</td>\n",
       "      <td>B0CY5QQ49F</td>\n",
       "      <td>NaN</td>\n",
       "      <td>1.45</td>\n",
       "      <td>NAPQUEEN</td>\n",
       "      <td>0.0</td>\n",
       "      <td>-0.967975</td>\n",
       "    </tr>\n",
       "  </tbody>\n",
       "</table>\n",
       "<p>2833 rows × 8 columns</p>\n",
       "</div>"
      ],
      "text/plain": [
       "                         ID        date     Item Id  \\\n",
       "0     2024-07-01_B09KDR64LT  2024-07-01  B09KDR64LT   \n",
       "1     2024-07-01_B09KDTS4DC  2024-07-01  B09KDTS4DC   \n",
       "2     2024-07-01_B09KDTHJ6V  2024-07-01  B09KDTHJ6V   \n",
       "3     2024-07-01_B09KDQ2BWY  2024-07-01  B09KDQ2BWY   \n",
       "4     2024-07-01_B09KDYY3SB  2024-07-01  B09KDYY3SB   \n",
       "...                     ...         ...         ...   \n",
       "2828  2024-07-28_B0BRCW2B64  2024-07-28  B0BRCW2B64   \n",
       "2829  2024-07-28_B0CFV6V981  2024-07-28  B0CFV6V981   \n",
       "2830  2024-07-28_B0BNL5BKMK  2024-07-28  B0BNL5BKMK   \n",
       "2831  2024-07-28_B0CR49BQRS  2024-07-28  B0CR49BQRS   \n",
       "2832  2024-07-28_B0CY5QQ49F  2024-07-28  B0CY5QQ49F   \n",
       "\n",
       "                                              Item Name  ad_spend anarix_id  \\\n",
       "0     NapQueen Elizabeth 10\" Gel Memory Foam Mattres...       NaN  NAPQUEEN   \n",
       "1     NapQueen Elizabeth 8\" Gel Memory Foam Mattress...       NaN  NAPQUEEN   \n",
       "2     NapQueen Elizabeth 12\" Gel Memory Foam Mattres...       NaN  NAPQUEEN   \n",
       "3     NapQueen Elizabeth 12\" Gel Memory Foam Mattres...       NaN  NAPQUEEN   \n",
       "4     NapQueen Elizabeth 10\" Gel Memory Foam Mattres...    101.72  NAPQUEEN   \n",
       "...                                                 ...       ...       ...   \n",
       "2828               NapQueen Anula Green Tea 12'', Queen     11.78  NAPQUEEN   \n",
       "2829                                                NaN      1.17  NAPQUEEN   \n",
       "2830  NapQueen 2'' Bamboo Charcoal Mattress Topper, ...      0.00  NAPQUEEN   \n",
       "2831                                                NaN      1.87  NAPQUEEN   \n",
       "2832                                                NaN      1.45  NAPQUEEN   \n",
       "\n",
       "      unit_price     Target  \n",
       "0            0.0  -1.118983  \n",
       "1            0.0  -1.118983  \n",
       "2            0.0  -1.118983  \n",
       "3            0.0  -1.118983  \n",
       "4         1094.5  18.072919  \n",
       "...          ...        ...  \n",
       "2828         0.0   0.107827  \n",
       "2829         0.0  -0.997135  \n",
       "2830         0.0  -1.118983  \n",
       "2831         0.0  -0.924234  \n",
       "2832         0.0  -0.967975  \n",
       "\n",
       "[2833 rows x 8 columns]"
      ]
     },
     "execution_count": 40,
     "metadata": {},
     "output_type": "execute_result"
    }
   ],
   "source": [
    "sub"
   ]
  },
  {
   "cell_type": "code",
   "execution_count": 41,
   "id": "f6c5dcfd",
   "metadata": {},
   "outputs": [],
   "source": [
    "sub=sub.drop([\"Item Id\",\"Item Name\",\"ad_spend\",\"anarix_id\",\"unit_price\"],axis=1)"
   ]
  },
  {
   "cell_type": "code",
   "execution_count": 42,
   "id": "cf91b0d0",
   "metadata": {},
   "outputs": [
    {
     "data": {
      "text/html": [
       "<div>\n",
       "<style scoped>\n",
       "    .dataframe tbody tr th:only-of-type {\n",
       "        vertical-align: middle;\n",
       "    }\n",
       "\n",
       "    .dataframe tbody tr th {\n",
       "        vertical-align: top;\n",
       "    }\n",
       "\n",
       "    .dataframe thead th {\n",
       "        text-align: right;\n",
       "    }\n",
       "</style>\n",
       "<table border=\"1\" class=\"dataframe\">\n",
       "  <thead>\n",
       "    <tr style=\"text-align: right;\">\n",
       "      <th></th>\n",
       "      <th>ID</th>\n",
       "      <th>date</th>\n",
       "      <th>Target</th>\n",
       "    </tr>\n",
       "  </thead>\n",
       "  <tbody>\n",
       "    <tr>\n",
       "      <th>0</th>\n",
       "      <td>2024-07-01_B09KDR64LT</td>\n",
       "      <td>2024-07-01</td>\n",
       "      <td>-1.118983</td>\n",
       "    </tr>\n",
       "    <tr>\n",
       "      <th>1</th>\n",
       "      <td>2024-07-01_B09KDTS4DC</td>\n",
       "      <td>2024-07-01</td>\n",
       "      <td>-1.118983</td>\n",
       "    </tr>\n",
       "    <tr>\n",
       "      <th>2</th>\n",
       "      <td>2024-07-01_B09KDTHJ6V</td>\n",
       "      <td>2024-07-01</td>\n",
       "      <td>-1.118983</td>\n",
       "    </tr>\n",
       "    <tr>\n",
       "      <th>3</th>\n",
       "      <td>2024-07-01_B09KDQ2BWY</td>\n",
       "      <td>2024-07-01</td>\n",
       "      <td>-1.118983</td>\n",
       "    </tr>\n",
       "    <tr>\n",
       "      <th>4</th>\n",
       "      <td>2024-07-01_B09KDYY3SB</td>\n",
       "      <td>2024-07-01</td>\n",
       "      <td>18.072919</td>\n",
       "    </tr>\n",
       "    <tr>\n",
       "      <th>...</th>\n",
       "      <td>...</td>\n",
       "      <td>...</td>\n",
       "      <td>...</td>\n",
       "    </tr>\n",
       "    <tr>\n",
       "      <th>2828</th>\n",
       "      <td>2024-07-28_B0BRCW2B64</td>\n",
       "      <td>2024-07-28</td>\n",
       "      <td>0.107827</td>\n",
       "    </tr>\n",
       "    <tr>\n",
       "      <th>2829</th>\n",
       "      <td>2024-07-28_B0CFV6V981</td>\n",
       "      <td>2024-07-28</td>\n",
       "      <td>-0.997135</td>\n",
       "    </tr>\n",
       "    <tr>\n",
       "      <th>2830</th>\n",
       "      <td>2024-07-28_B0BNL5BKMK</td>\n",
       "      <td>2024-07-28</td>\n",
       "      <td>-1.118983</td>\n",
       "    </tr>\n",
       "    <tr>\n",
       "      <th>2831</th>\n",
       "      <td>2024-07-28_B0CR49BQRS</td>\n",
       "      <td>2024-07-28</td>\n",
       "      <td>-0.924234</td>\n",
       "    </tr>\n",
       "    <tr>\n",
       "      <th>2832</th>\n",
       "      <td>2024-07-28_B0CY5QQ49F</td>\n",
       "      <td>2024-07-28</td>\n",
       "      <td>-0.967975</td>\n",
       "    </tr>\n",
       "  </tbody>\n",
       "</table>\n",
       "<p>2833 rows × 3 columns</p>\n",
       "</div>"
      ],
      "text/plain": [
       "                         ID        date     Target\n",
       "0     2024-07-01_B09KDR64LT  2024-07-01  -1.118983\n",
       "1     2024-07-01_B09KDTS4DC  2024-07-01  -1.118983\n",
       "2     2024-07-01_B09KDTHJ6V  2024-07-01  -1.118983\n",
       "3     2024-07-01_B09KDQ2BWY  2024-07-01  -1.118983\n",
       "4     2024-07-01_B09KDYY3SB  2024-07-01  18.072919\n",
       "...                     ...         ...        ...\n",
       "2828  2024-07-28_B0BRCW2B64  2024-07-28   0.107827\n",
       "2829  2024-07-28_B0CFV6V981  2024-07-28  -0.997135\n",
       "2830  2024-07-28_B0BNL5BKMK  2024-07-28  -1.118983\n",
       "2831  2024-07-28_B0CR49BQRS  2024-07-28  -0.924234\n",
       "2832  2024-07-28_B0CY5QQ49F  2024-07-28  -0.967975\n",
       "\n",
       "[2833 rows x 3 columns]"
      ]
     },
     "execution_count": 42,
     "metadata": {},
     "output_type": "execute_result"
    }
   ],
   "source": [
    "sub"
   ]
  },
  {
   "cell_type": "code",
   "execution_count": 43,
   "id": "a693ed15",
   "metadata": {},
   "outputs": [],
   "source": [
    "sub=sub.drop([\"date\"],axis=1)"
   ]
  },
  {
   "cell_type": "code",
   "execution_count": 44,
   "id": "f0099064",
   "metadata": {},
   "outputs": [],
   "source": [
    "sub.to_csv('C:/Users/Ramini Varun Babu/Downloads/nap_queens assignment/sales_data/submission.csv', index=False)"
   ]
  },
  {
   "cell_type": "markdown",
   "id": "511cc02c",
   "metadata": {},
   "source": [
    "RANDOM FOREST REGRESSOR"
   ]
  },
  {
   "cell_type": "code",
   "execution_count": 45,
   "id": "4bbb420d",
   "metadata": {},
   "outputs": [
    {
     "data": {
      "text/plain": [
       "RandomForestRegressor(random_state=42)"
      ]
     },
     "execution_count": 45,
     "metadata": {},
     "output_type": "execute_result"
    }
   ],
   "source": [
    "from sklearn.ensemble import RandomForestRegressor\n",
    "from sklearn.metrics import mean_squared_error\n",
    "\n",
    "model3 = RandomForestRegressor(n_estimators=100, random_state=42)\n",
    "model3.fit(X_train, y_train)"
   ]
  },
  {
   "cell_type": "code",
   "execution_count": 46,
   "id": "02e1c5b2",
   "metadata": {},
   "outputs": [
    {
     "name": "stdout",
     "output_type": "stream",
     "text": [
      "Mean Squared Error: 1167.4556172184161\n"
     ]
    }
   ],
   "source": [
    "y_pred3 = model3.predict(X_test)\n",
    "\n",
    "# Evaluate model performance\n",
    "mse = mean_squared_error(y_test, y_pred3)\n",
    "print(f'Mean Squared Error: {mse}')"
   ]
  },
  {
   "cell_type": "markdown",
   "id": "cb3f411d",
   "metadata": {},
   "source": [
    "LINEAR REGRESSION WITH LASSO AND RIDGE REGULARIZATION "
   ]
  },
  {
   "cell_type": "code",
   "execution_count": 47,
   "id": "e40c1c2a",
   "metadata": {},
   "outputs": [
    {
     "data": {
      "text/plain": [
       "Ridge()"
      ]
     },
     "execution_count": 47,
     "metadata": {},
     "output_type": "execute_result"
    }
   ],
   "source": [
    "from sklearn.linear_model import LinearRegression, Lasso, Ridge\n",
    "\n",
    "lasso=Lasso(alpha=0.1)\n",
    "Ridge= Ridge(alpha=1.0)\n",
    "\n",
    "lasso.fit(X_train, y_train)\n",
    "Ridge.fit(X_train, y_train)\n"
   ]
  },
  {
   "cell_type": "code",
   "execution_count": 48,
   "id": "0acc910a",
   "metadata": {},
   "outputs": [
    {
     "name": "stdout",
     "output_type": "stream",
     "text": [
      "Mean Squared Error: 1407.4313434008466\n"
     ]
    }
   ],
   "source": [
    "lasso_pred=lasso.predict(X_test)\n",
    "mse = mean_squared_error(y_test, lasso_pred)\n",
    "print(f'Mean Squared Error: {mse}')"
   ]
  },
  {
   "cell_type": "code",
   "execution_count": 49,
   "id": "1cc2eed7",
   "metadata": {},
   "outputs": [
    {
     "name": "stdout",
     "output_type": "stream",
     "text": [
      "Mean Squared Error: 1407.4349720552063\n"
     ]
    }
   ],
   "source": [
    "Ridge_pred=Ridge.predict(X_test)\n",
    "mse = mean_squared_error(y_test, Ridge_pred)\n",
    "print(f'Mean Squared Error: {mse}')"
   ]
  },
  {
   "cell_type": "markdown",
   "id": "76bb6938",
   "metadata": {},
   "source": [
    "Saving the result from the random forest regressor into the submission1 csv file"
   ]
  },
  {
   "cell_type": "code",
   "execution_count": 50,
   "id": "518f9bfd",
   "metadata": {},
   "outputs": [],
   "source": [
    "rand = model3.predict(test_data)"
   ]
  },
  {
   "cell_type": "code",
   "execution_count": 51,
   "id": "bd2da2b3",
   "metadata": {},
   "outputs": [],
   "source": [
    "sub1=pd.read_csv(\"C:/Users/Ramini Varun Babu/Downloads/nap_queens assignment/sales_data/test.csv  \")"
   ]
  },
  {
   "cell_type": "code",
   "execution_count": 52,
   "id": "dc73a260",
   "metadata": {},
   "outputs": [],
   "source": [
    "sub1[\"Target\"]=rand"
   ]
  },
  {
   "cell_type": "code",
   "execution_count": 53,
   "id": "93d1f5d8",
   "metadata": {},
   "outputs": [],
   "source": [
    "sub1=sub1.drop([\"Item Id\",\"Item Name\",\"ad_spend\",\"anarix_id\",\"unit_price\",\"date\"],axis=1)"
   ]
  },
  {
   "cell_type": "code",
   "execution_count": 54,
   "id": "8dfccd72",
   "metadata": {},
   "outputs": [
    {
     "data": {
      "text/html": [
       "<div>\n",
       "<style scoped>\n",
       "    .dataframe tbody tr th:only-of-type {\n",
       "        vertical-align: middle;\n",
       "    }\n",
       "\n",
       "    .dataframe tbody tr th {\n",
       "        vertical-align: top;\n",
       "    }\n",
       "\n",
       "    .dataframe thead th {\n",
       "        text-align: right;\n",
       "    }\n",
       "</style>\n",
       "<table border=\"1\" class=\"dataframe\">\n",
       "  <thead>\n",
       "    <tr style=\"text-align: right;\">\n",
       "      <th></th>\n",
       "      <th>ID</th>\n",
       "      <th>Target</th>\n",
       "    </tr>\n",
       "  </thead>\n",
       "  <tbody>\n",
       "    <tr>\n",
       "      <th>0</th>\n",
       "      <td>2024-07-01_B09KDR64LT</td>\n",
       "      <td>4.135729</td>\n",
       "    </tr>\n",
       "    <tr>\n",
       "      <th>1</th>\n",
       "      <td>2024-07-01_B09KDTS4DC</td>\n",
       "      <td>4.135729</td>\n",
       "    </tr>\n",
       "    <tr>\n",
       "      <th>2</th>\n",
       "      <td>2024-07-01_B09KDTHJ6V</td>\n",
       "      <td>4.135729</td>\n",
       "    </tr>\n",
       "    <tr>\n",
       "      <th>3</th>\n",
       "      <td>2024-07-01_B09KDQ2BWY</td>\n",
       "      <td>4.135729</td>\n",
       "    </tr>\n",
       "    <tr>\n",
       "      <th>4</th>\n",
       "      <td>2024-07-01_B09KDYY3SB</td>\n",
       "      <td>10.640000</td>\n",
       "    </tr>\n",
       "    <tr>\n",
       "      <th>...</th>\n",
       "      <td>...</td>\n",
       "      <td>...</td>\n",
       "    </tr>\n",
       "    <tr>\n",
       "      <th>2828</th>\n",
       "      <td>2024-07-28_B0BRCW2B64</td>\n",
       "      <td>1.435701</td>\n",
       "    </tr>\n",
       "    <tr>\n",
       "      <th>2829</th>\n",
       "      <td>2024-07-28_B0CFV6V981</td>\n",
       "      <td>70.570990</td>\n",
       "    </tr>\n",
       "    <tr>\n",
       "      <th>2830</th>\n",
       "      <td>2024-07-28_B0BNL5BKMK</td>\n",
       "      <td>4.135729</td>\n",
       "    </tr>\n",
       "    <tr>\n",
       "      <th>2831</th>\n",
       "      <td>2024-07-28_B0CR49BQRS</td>\n",
       "      <td>0.765791</td>\n",
       "    </tr>\n",
       "    <tr>\n",
       "      <th>2832</th>\n",
       "      <td>2024-07-28_B0CY5QQ49F</td>\n",
       "      <td>0.989624</td>\n",
       "    </tr>\n",
       "  </tbody>\n",
       "</table>\n",
       "<p>2833 rows × 2 columns</p>\n",
       "</div>"
      ],
      "text/plain": [
       "                         ID     Target\n",
       "0     2024-07-01_B09KDR64LT   4.135729\n",
       "1     2024-07-01_B09KDTS4DC   4.135729\n",
       "2     2024-07-01_B09KDTHJ6V   4.135729\n",
       "3     2024-07-01_B09KDQ2BWY   4.135729\n",
       "4     2024-07-01_B09KDYY3SB  10.640000\n",
       "...                     ...        ...\n",
       "2828  2024-07-28_B0BRCW2B64   1.435701\n",
       "2829  2024-07-28_B0CFV6V981  70.570990\n",
       "2830  2024-07-28_B0BNL5BKMK   4.135729\n",
       "2831  2024-07-28_B0CR49BQRS   0.765791\n",
       "2832  2024-07-28_B0CY5QQ49F   0.989624\n",
       "\n",
       "[2833 rows x 2 columns]"
      ]
     },
     "execution_count": 54,
     "metadata": {},
     "output_type": "execute_result"
    }
   ],
   "source": [
    "sub1"
   ]
  },
  {
   "cell_type": "code",
   "execution_count": 55,
   "id": "0ed78c82",
   "metadata": {},
   "outputs": [],
   "source": [
    "sub1.to_csv('C:/Users/Ramini Varun Babu/Downloads/nap_queens assignment/sales_data/submission1.csv', index=False)"
   ]
  },
  {
   "cell_type": "code",
   "execution_count": null,
   "id": "6676ea3f",
   "metadata": {},
   "outputs": [],
   "source": []
  },
  {
   "cell_type": "code",
   "execution_count": null,
   "id": "c61cc250",
   "metadata": {},
   "outputs": [],
   "source": []
  }
 ],
 "metadata": {
  "kernelspec": {
   "display_name": "Python 3 (ipykernel)",
   "language": "python",
   "name": "python3"
  },
  "language_info": {
   "codemirror_mode": {
    "name": "ipython",
    "version": 3
   },
   "file_extension": ".py",
   "mimetype": "text/x-python",
   "name": "python",
   "nbconvert_exporter": "python",
   "pygments_lexer": "ipython3",
   "version": "3.9.13"
  }
 },
 "nbformat": 4,
 "nbformat_minor": 5
}
